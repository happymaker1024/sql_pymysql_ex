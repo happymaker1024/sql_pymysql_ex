{
 "cells": [
  {
   "cell_type": "markdown",
   "id": "13606467",
   "metadata": {},
   "source": [
    "# pymysql 실습"
   ]
  },
  {
   "cell_type": "markdown",
   "id": "6f7c756d",
   "metadata": {},
   "source": [
    "- pip install pymysql"
   ]
  },
  {
   "cell_type": "code",
   "execution_count": 1,
   "id": "bd0d1cab",
   "metadata": {},
   "outputs": [],
   "source": [
    "import pymysql"
   ]
  },
  {
   "cell_type": "markdown",
   "id": "1ad57ef5",
   "metadata": {},
   "source": [
    "# 1. DB연결\n",
    "- id, pw, host, port, db"
   ]
  },
  {
   "cell_type": "code",
   "execution_count": 5,
   "id": "b9af6565",
   "metadata": {},
   "outputs": [],
   "source": [
    "# '127.0.0.1' = 'localhost'\n",
    "conn = pymysql.connect(\n",
    "    host='127.0.0.1',\n",
    "    port=3306, \n",
    "    user='joy',\n",
    "    password='1234',\n",
    "    db='csm_db',\n",
    "    charset='utf8'\n",
    ")"
   ]
  },
  {
   "cell_type": "markdown",
   "id": "707e3edb",
   "metadata": {},
   "source": [
    "# 2. DB cursor 생성\n",
    "- 데이터 셔틀버스와 같음"
   ]
  },
  {
   "cell_type": "code",
   "execution_count": null,
   "id": "2449e053",
   "metadata": {},
   "outputs": [],
   "source": [
    "# 커서 객체 생성\n",
    "cur = conn.cursor()"
   ]
  },
  {
   "cell_type": "code",
   "execution_count": 21,
   "id": "f194e949",
   "metadata": {},
   "outputs": [
    {
     "data": {
      "text/plain": [
       "0"
      ]
     },
     "execution_count": 21,
     "metadata": {},
     "output_type": "execute_result"
    }
   ],
   "source": [
    "# items 테이블이 존재하면 삭제\n",
    "cur.execute(\"drop table if exists items\")"
   ]
  },
  {
   "cell_type": "markdown",
   "id": "c63b8c08",
   "metadata": {},
   "source": [
    "# 3. slq 명령 실행"
   ]
  },
  {
   "cell_type": "code",
   "execution_count": 22,
   "id": "517f6a4f",
   "metadata": {},
   "outputs": [
    {
     "data": {
      "text/plain": [
       "0"
      ]
     },
     "execution_count": 22,
     "metadata": {},
     "output_type": "execute_result"
    }
   ],
   "source": [
    "# items 테이블 만들기 : 테이블이 존재하지 않으면 생성\n",
    "create_sql = \"\"\"\n",
    "CREATE TABLE IF NOT EXISTS items(\n",
    "    id INTEGER PRIMARY KEY AUTO_INCREMENT,\n",
    "    code TEXT NOT NULL,\n",
    "    name TEXT NOT NULL,\n",
    "    price INTEGER NULL\n",
    ")\n",
    "\"\"\"\n",
    "cur.execute(create_sql)"
   ]
  },
  {
   "cell_type": "markdown",
   "id": "7107ab32",
   "metadata": {},
   "source": [
    "## 데이터 입력(Create)"
   ]
  },
  {
   "cell_type": "code",
   "execution_count": 23,
   "id": "99c2e0f4",
   "metadata": {},
   "outputs": [
    {
     "data": {
      "text/plain": [
       "1"
      ]
     },
     "execution_count": 23,
     "metadata": {},
     "output_type": "execute_result"
    }
   ],
   "source": [
    "# 레코드 1개 테이블에 추가하기\n",
    "insert_sql = \"\"\"\n",
    "INSERT INTO items(code , name, price)\n",
    "    VALUES(%s, %s, %s)\n",
    "\"\"\"\n",
    "cur.execute(insert_sql, ('A001', 'TV', 1000000))"
   ]
  },
  {
   "cell_type": "code",
   "execution_count": 24,
   "id": "04850dd9",
   "metadata": {},
   "outputs": [],
   "source": [
    "# 변경사항 저장, 반드시 실행해야만 테이블에 반영됨.\n",
    "conn.commit()"
   ]
  },
  {
   "cell_type": "code",
   "execution_count": 25,
   "id": "fe59cf03",
   "metadata": {},
   "outputs": [
    {
     "data": {
      "text/plain": [
       "3"
      ]
     },
     "execution_count": 25,
     "metadata": {},
     "output_type": "execute_result"
    }
   ],
   "source": [
    "# 여러개의 레코드를 한꺼번에 추가하기\n",
    "datas = (\n",
    "    ('A0002', '에어컨 30평형', 2000000),\n",
    "    ('A0003', '최신형 스마트폰', 1000000),\n",
    "    ('A0004', '최신형 노트북', 500000)\n",
    ")\n",
    "cur.executemany(insert_sql, datas)"
   ]
  },
  {
   "cell_type": "code",
   "execution_count": 26,
   "id": "964b4c3c",
   "metadata": {},
   "outputs": [],
   "source": [
    "# 변경사항 저장, 반드시 실행해야만 테이블에 반영됨.\n",
    "conn.commit()"
   ]
  },
  {
   "cell_type": "markdown",
   "id": "13362eac",
   "metadata": {},
   "source": [
    "## 데이터 읽기 (Read)"
   ]
  },
  {
   "cell_type": "code",
   "execution_count": 27,
   "id": "b11dbc02",
   "metadata": {},
   "outputs": [
    {
     "data": {
      "text/plain": [
       "4"
      ]
     },
     "execution_count": 27,
     "metadata": {},
     "output_type": "execute_result"
    }
   ],
   "source": [
    "# select 문\n",
    "select_sql1 = \"SELECT * FROM items\"\n",
    "cur.execute(select_sql1)"
   ]
  },
  {
   "cell_type": "code",
   "execution_count": null,
   "id": "7cb27f95",
   "metadata": {},
   "outputs": [],
   "source": [
    "# DB 조회한 결과를 확인하기 위해서 fetch 수행\n",
    "rows = cur.fetchall()"
   ]
  },
  {
   "cell_type": "code",
   "execution_count": 28,
   "id": "cabad4e3",
   "metadata": {},
   "outputs": [
    {
     "data": {
      "text/plain": [
       "((1, 'A001', 'TV', 1000000),\n",
       " (2, 'A0002', '에어컨 30평형', 2000000),\n",
       " (3, 'A0003', '최신형 스마트폰', 1000000),\n",
       " (4, 'A0004', '최신형 노트북', 500000))"
      ]
     },
     "execution_count": 28,
     "metadata": {},
     "output_type": "execute_result"
    }
   ],
   "source": [
    "rows"
   ]
  },
  {
   "cell_type": "code",
   "execution_count": 33,
   "id": "332543e6",
   "metadata": {},
   "outputs": [
    {
     "name": "stdout",
     "output_type": "stream",
     "text": [
      "1 - ('A001', 'TV', 1000000)\n",
      "2 - ('A0002', '에어컨 30평형', 2000000)\n",
      "3 - ('A0003', '최신형 스마트폰', 1000000)\n",
      "4 - ('A0004', '최신형 노트북', 500000)\n"
     ]
    }
   ],
   "source": [
    "for idx, row in enumerate(rows):\n",
    "    print(f\"{idx+1} - {row[1:]}\")"
   ]
  },
  {
   "cell_type": "code",
   "execution_count": 37,
   "id": "852922e6",
   "metadata": {},
   "outputs": [
    {
     "data": {
      "text/plain": [
       "3"
      ]
     },
     "execution_count": 37,
     "metadata": {},
     "output_type": "execute_result"
    }
   ],
   "source": [
    "# select 문, 2개의 레코드\n",
    "select_sql1 = \"SELECT * FROM items LIMIT 3\"\n",
    "cur.execute(select_sql1)"
   ]
  },
  {
   "cell_type": "code",
   "execution_count": 38,
   "id": "c502f08c",
   "metadata": {},
   "outputs": [
    {
     "data": {
      "text/plain": [
       "((1, 'A001', 'TV', 1000000),\n",
       " (2, 'A0002', '에어컨 30평형', 2000000),\n",
       " (3, 'A0003', '최신형 스마트폰', 1000000))"
      ]
     },
     "execution_count": 38,
     "metadata": {},
     "output_type": "execute_result"
    }
   ],
   "source": [
    "rows = cur.fetchall()\n",
    "rows"
   ]
  },
  {
   "cell_type": "code",
   "execution_count": null,
   "id": "b3052ec0",
   "metadata": {},
   "outputs": [
    {
     "data": {
      "text/plain": [
       "()"
      ]
     },
     "execution_count": 39,
     "metadata": {},
     "output_type": "execute_result"
    }
   ],
   "source": [
    "# fetchall 한번 수행하면 데이터는 비워짐, \n",
    "# 위에서 fetchall() 실행했기 때문에 빈결과가 나옴\n",
    "cur.fetchall()"
   ]
  },
  {
   "cell_type": "markdown",
   "id": "86329815",
   "metadata": {},
   "source": [
    "## 수정 (Update)"
   ]
  },
  {
   "cell_type": "code",
   "execution_count": 41,
   "id": "1571b363",
   "metadata": {},
   "outputs": [
    {
     "data": {
      "text/plain": [
       "1"
      ]
     },
     "execution_count": 41,
     "metadata": {},
     "output_type": "execute_result"
    }
   ],
   "source": [
    "update_sql = \"\"\"\n",
    "UPDATE items \n",
    "SET price = %s\n",
    "WHERE code = %s\n",
    "\"\"\"\n",
    "\n",
    "price = 1500000\n",
    "code = 'A0001'\n",
    "cur.execute(update_sql, (price, code))"
   ]
  },
  {
   "cell_type": "code",
   "execution_count": 42,
   "id": "35cd3eca",
   "metadata": {},
   "outputs": [],
   "source": [
    "conn.commit()"
   ]
  },
  {
   "cell_type": "code",
   "execution_count": 43,
   "id": "5de651e8",
   "metadata": {},
   "outputs": [],
   "source": [
    "# id = 2인 레코의 price -> 2500000 변경\n",
    "update_sql = \"\"\"\n",
    "UPDATE items \n",
    "SET price = %s\n",
    "WHERE id = %s\n",
    "\"\"\"\n",
    "\n",
    "price = 2500000\n",
    "id = 2\n",
    "cur.execute(update_sql, (price, id))\n",
    "conn.commit()"
   ]
  },
  {
   "cell_type": "markdown",
   "id": "d73d3a9d",
   "metadata": {},
   "source": [
    "## 데이터 삭제(Delete)"
   ]
  },
  {
   "cell_type": "code",
   "execution_count": 48,
   "id": "4055f3e5",
   "metadata": {},
   "outputs": [
    {
     "data": {
      "text/plain": [
       "0"
      ]
     },
     "execution_count": 48,
     "metadata": {},
     "output_type": "execute_result"
    }
   ],
   "source": [
    "delete_sql = \"\"\"\n",
    "DELETE FROM items\n",
    "WHERE code = %s\n",
    "\"\"\"\n",
    "cur.execute(delete_sql, 'A0003') # %s 1개 일경우, 튜플아님"
   ]
  },
  {
   "cell_type": "code",
   "execution_count": 49,
   "id": "33d156cc",
   "metadata": {},
   "outputs": [],
   "source": [
    "conn.commit()"
   ]
  },
  {
   "cell_type": "markdown",
   "id": "e179752d",
   "metadata": {},
   "source": [
    "# 4. commit, rollback 실행\n",
    "- insert, update, delete sql을 실행했을 경우는 반드시 실행해야 DB에 반영됨"
   ]
  },
  {
   "cell_type": "code",
   "execution_count": 54,
   "id": "5b93723a",
   "metadata": {},
   "outputs": [
    {
     "data": {
      "text/plain": [
       "1"
      ]
     },
     "execution_count": 54,
     "metadata": {},
     "output_type": "execute_result"
    }
   ],
   "source": [
    "# 데이터 생성하기\n",
    "# code A0005, name 로본청소기, price 1000000\n",
    "# 레코드 1개 테이블에 추가하기\n",
    "insert_sql = \"\"\"\n",
    "INSERT INTO items(code , name, price)\n",
    "    VALUES(%s, %s, %s)\n",
    "\"\"\"\n",
    "cur.execute(insert_sql, ('A0005', '로본청소기', 1000000))"
   ]
  },
  {
   "cell_type": "code",
   "execution_count": 55,
   "id": "fc8cf9f6",
   "metadata": {},
   "outputs": [
    {
     "data": {
      "text/plain": [
       "1"
      ]
     },
     "execution_count": 55,
     "metadata": {},
     "output_type": "execute_result"
    }
   ],
   "source": [
    "insert_sql = \"\"\"\n",
    "INSERT INTO items(code , name, price)\n",
    "    VALUES(%s, %s, %s)\n",
    "\"\"\"\n",
    "cur.execute(insert_sql, ('A0006', '스타일러', 3500000))"
   ]
  },
  {
   "cell_type": "code",
   "execution_count": null,
   "id": "57578347",
   "metadata": {},
   "outputs": [],
   "source": [
    "# DB에 가장 마지막에 반영한 이후 시점까지 되돌리기\n",
    "conn.rollback()"
   ]
  },
  {
   "cell_type": "code",
   "execution_count": 56,
   "id": "86540bd0",
   "metadata": {},
   "outputs": [
    {
     "data": {
      "text/plain": [
       "((1, 'A0001', 'TV', 1500000),\n",
       " (2, 'A0002', '에어컨 30평형', 2500000),\n",
       " (4, 'A0004', '최신형 노트북', 500000),\n",
       " (7, 'A0005', '로본청소기', 1000000),\n",
       " (8, 'A0006', '스타일러', 3500000))"
      ]
     },
     "execution_count": 56,
     "metadata": {},
     "output_type": "execute_result"
    }
   ],
   "source": [
    "# 조회\n",
    "select_sql1 = \"SELECT * FROM items\"\n",
    "cur.execute(select_sql1)\n",
    "rows = cur.fetchall()\n",
    "rows"
   ]
  },
  {
   "cell_type": "markdown",
   "id": "b17923cf",
   "metadata": {},
   "source": [
    "# 5. DB close()\n",
    "- 데이터 처리를 위해 연결한 DB연결 자원을 반환함."
   ]
  },
  {
   "cell_type": "markdown",
   "id": "9c377684",
   "metadata": {},
   "source": [
    "conn.close()"
   ]
  }
 ],
 "metadata": {
  "kernelspec": {
   "display_name": "llm_env",
   "language": "python",
   "name": "python3"
  },
  "language_info": {
   "codemirror_mode": {
    "name": "ipython",
    "version": 3
   },
   "file_extension": ".py",
   "mimetype": "text/x-python",
   "name": "python",
   "nbconvert_exporter": "python",
   "pygments_lexer": "ipython3",
   "version": "3.10.19"
  }
 },
 "nbformat": 4,
 "nbformat_minor": 5
}
